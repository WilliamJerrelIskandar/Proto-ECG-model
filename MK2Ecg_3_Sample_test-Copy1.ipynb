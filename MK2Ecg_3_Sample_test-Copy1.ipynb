{
 "cells": [
  {
   "cell_type": "code",
   "execution_count": 2,
   "metadata": {},
   "outputs": [
    {
     "name": "stdout",
     "output_type": "stream",
     "text": [
      "Num GPUs Available:  1\n",
      "1 Physical GPUs, 1 Logical GPUs\n"
     ]
    }
   ],
   "source": [
    "import cv2\n",
    "import tensorflow as tf\n",
    "import numpy as np\n",
    "print(\"Num GPUs Available: \", len(tf.config.experimental.list_physical_devices('GPU')))\n",
    "gpus = tf.config.experimental.list_physical_devices('GPU')\n",
    "if gpus:\n",
    "  try:\n",
    "    # Currently, memory growth needs to be the same across GPUs\n",
    "    for gpu in gpus:\n",
    "      tf.config.experimental.set_memory_growth(gpu, True)\n",
    "    logical_gpus = tf.config.experimental.list_logical_devices('GPU')\n",
    "    print(len(gpus), \"Physical GPUs,\", len(logical_gpus), \"Logical GPUs\")\n",
    "  except RuntimeError as e:\n",
    "    # Memory growth must be set before GPUs have been initialized\n",
    "    print(e)\n",
    "    \n",
    "CATEGORIES = [\"Normal\", \"Not Normal\"]\n",
    "model = tf.keras.models.load_model(\"MK2ECG_Arrythmia&NSR.model\")"
   ]
  },
  {
   "cell_type": "code",
   "execution_count": 3,
   "metadata": {},
   "outputs": [
    {
     "name": "stdout",
     "output_type": "stream",
     "text": [
      "C:/Users/WJI/Pictures/ECG sample.png\n",
      "[[[[ 78]\n",
      "   [  1]\n",
      "   [  0]\n",
      "   ...\n",
      "   [  2]\n",
      "   [ 46]\n",
      "   [  2]]\n",
      "\n",
      "  [[  6]\n",
      "   [  2]\n",
      "   [ 19]\n",
      "   ...\n",
      "   [  1]\n",
      "   [ 46]\n",
      "   [  2]]\n",
      "\n",
      "  [[  2]\n",
      "   [  1]\n",
      "   [ 37]\n",
      "   ...\n",
      "   [128]\n",
      "   [  2]\n",
      "   [  2]]\n",
      "\n",
      "  ...\n",
      "\n",
      "  [[  1]\n",
      "   [ 31]\n",
      "   [  2]\n",
      "   ...\n",
      "   [  2]\n",
      "   [  2]\n",
      "   [ 21]]\n",
      "\n",
      "  [[  1]\n",
      "   [  2]\n",
      "   [  2]\n",
      "   ...\n",
      "   [  1]\n",
      "   [  1]\n",
      "   [  6]]\n",
      "\n",
      "  [[  2]\n",
      "   [  2]\n",
      "   [  4]\n",
      "   ...\n",
      "   [  2]\n",
      "   [ 53]\n",
      "   [ 11]]]]\n"
     ]
    }
   ],
   "source": [
    "#Test the model with an example\n",
    "import tkinter as tk\n",
    "from tkinter import filedialog\n",
    "\n",
    "root = tk.Tk()\n",
    "root.withdraw()\n",
    "\n",
    "file_path = filedialog.askopenfilename()\n",
    "print(file_path)\n",
    "\n",
    "x_SIZE = 335\n",
    "y_SIZE = 192\n",
    "img_array = cv2.imread(file_path, cv2.IMREAD_GRAYSCALE)\n",
    "resized_array = cv2.resize(img_array, (x_SIZE, y_SIZE))\n",
    "processed_image = np.array(resized_array).reshape(-1, x_SIZE, y_SIZE, 1)\n",
    "\n",
    "\n",
    "print(processed_image)"
   ]
  },
  {
   "cell_type": "code",
   "execution_count": 4,
   "metadata": {},
   "outputs": [
    {
     "name": "stdout",
     "output_type": "stream",
     "text": [
      "[[0.]]\n"
     ]
    }
   ],
   "source": [
    "prediction = model.predict([processed_image])\n",
    "print(prediction)  # will be a list in a list.\n"
   ]
  },
  {
   "cell_type": "code",
   "execution_count": 5,
   "metadata": {},
   "outputs": [
    {
     "name": "stdout",
     "output_type": "stream",
     "text": [
      "Normal\n"
     ]
    }
   ],
   "source": [
    "print(CATEGORIES[int(prediction[0][0])])"
   ]
  },
  {
   "cell_type": "code",
   "execution_count": null,
   "metadata": {},
   "outputs": [],
   "source": []
  }
 ],
 "metadata": {
  "kernelspec": {
   "display_name": "Python 3.7 (tensorflow)",
   "language": "python",
   "name": "tensorflow"
  },
  "language_info": {
   "codemirror_mode": {
    "name": "ipython",
    "version": 3
   },
   "file_extension": ".py",
   "mimetype": "text/x-python",
   "name": "python",
   "nbconvert_exporter": "python",
   "pygments_lexer": "ipython3",
   "version": "3.7.7"
  }
 },
 "nbformat": 4,
 "nbformat_minor": 4
}
